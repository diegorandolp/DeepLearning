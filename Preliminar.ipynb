{
 "cells": [
  {
   "metadata": {},
   "cell_type": "markdown",
   "source": "# Intro to Pytorch",
   "id": "e29a62248d170933"
  },
  {
   "metadata": {
    "ExecuteTime": {
     "end_time": "2024-12-16T00:52:48.756517Z",
     "start_time": "2024-12-16T00:52:45.270994Z"
    }
   },
   "cell_type": "code",
   "source": [
    "import collections\n",
    "import hashlib\n",
    "import inspect\n",
    "import math\n",
    "import os\n",
    "import random\n",
    "import re\n",
    "import shutil\n",
    "import sys\n",
    "import tarfile\n",
    "import time\n",
    "import zipfile\n",
    "from collections import defaultdict\n",
    "import pandas as pd\n",
    "import requests\n",
    "from IPython import display\n",
    "from matplotlib import pyplot as plt\n",
    "from matplotlib_inline import backend_inline\n",
    "import numpy as np\n",
    "import torch\n",
    "import torchvision\n",
    "from PIL import Image\n",
    "from scipy.spatial import distance_matrix\n",
    "from torch import nn\n",
    "from torch.nn import functional as F\n",
    "from torchvision import transforms"
   ],
   "id": "6c6b7d4f7c988c9f",
   "outputs": [],
   "execution_count": 46
  },
  {
   "metadata": {
    "ExecuteTime": {
     "end_time": "2024-12-15T23:02:37.571494Z",
     "start_time": "2024-12-15T23:02:37.566529Z"
    }
   },
   "cell_type": "code",
   "source": "torch.cuda.get_device_name(0)",
   "id": "26ea16cf516092e8",
   "outputs": [
    {
     "data": {
      "text/plain": [
       "'NVIDIA GeForce RTX 4050 Laptop GPU'"
      ]
     },
     "execution_count": 5,
     "metadata": {},
     "output_type": "execute_result"
    }
   ],
   "execution_count": 5
  },
  {
   "metadata": {
    "ExecuteTime": {
     "end_time": "2024-12-16T00:05:25.469585Z",
     "start_time": "2024-12-16T00:05:25.463333Z"
    }
   },
   "cell_type": "code",
   "source": [
    "x = torch.arange(12, dtype=torch.float32)\n",
    "print(x)\n",
    "print(x.shape)\n",
    "print(x.numel())"
   ],
   "id": "1111ea1bb16ca668",
   "outputs": [
    {
     "name": "stdout",
     "output_type": "stream",
     "text": [
      "tensor([ 0.,  1.,  2.,  3.,  4.,  5.,  6.,  7.,  8.,  9., 10., 11.])\n",
      "torch.Size([12])\n",
      "12\n"
     ]
    }
   ],
   "execution_count": 17
  },
  {
   "metadata": {
    "ExecuteTime": {
     "end_time": "2024-12-16T00:05:26.124971Z",
     "start_time": "2024-12-16T00:05:26.119959Z"
    }
   },
   "cell_type": "code",
   "source": [
    "x = x.reshape(3, 4)\n",
    "print(x)\n",
    "print(x.shape)\n",
    "print(x.numel())"
   ],
   "id": "fa0c26da410038b0",
   "outputs": [
    {
     "name": "stdout",
     "output_type": "stream",
     "text": [
      "tensor([[ 0.,  1.,  2.,  3.],\n",
      "        [ 4.,  5.,  6.,  7.],\n",
      "        [ 8.,  9., 10., 11.]])\n",
      "torch.Size([3, 4])\n",
      "12\n"
     ]
    }
   ],
   "execution_count": 18
  },
  {
   "metadata": {
    "ExecuteTime": {
     "end_time": "2024-12-16T00:05:26.566864Z",
     "start_time": "2024-12-16T00:05:26.562152Z"
    }
   },
   "cell_type": "code",
   "source": [
    "x = x.reshape(6, -1)\n",
    "print(x)"
   ],
   "id": "4a28b7ab503fcc1",
   "outputs": [
    {
     "name": "stdout",
     "output_type": "stream",
     "text": [
      "tensor([[ 0.,  1.],\n",
      "        [ 2.,  3.],\n",
      "        [ 4.,  5.],\n",
      "        [ 6.,  7.],\n",
      "        [ 8.,  9.],\n",
      "        [10., 11.]])\n"
     ]
    }
   ],
   "execution_count": 19
  },
  {
   "metadata": {
    "ExecuteTime": {
     "end_time": "2024-12-16T00:03:00.871426Z",
     "start_time": "2024-12-16T00:03:00.863764Z"
    }
   },
   "cell_type": "code",
   "source": [
    "x_zeros = torch.zeros((2, 3, 4))\n",
    "print(x_zeros)"
   ],
   "id": "97c1cc3e24c9cfdb",
   "outputs": [
    {
     "name": "stdout",
     "output_type": "stream",
     "text": [
      "tensor([[[0., 0., 0., 0.],\n",
      "         [0., 0., 0., 0.],\n",
      "         [0., 0., 0., 0.]],\n",
      "\n",
      "        [[0., 0., 0., 0.],\n",
      "         [0., 0., 0., 0.],\n",
      "         [0., 0., 0., 0.]]])\n"
     ]
    }
   ],
   "execution_count": 16
  },
  {
   "metadata": {
    "ExecuteTime": {
     "end_time": "2024-12-16T00:06:05.793493Z",
     "start_time": "2024-12-16T00:06:05.780993Z"
    }
   },
   "cell_type": "code",
   "source": "torch.ones((2, 3, 4))",
   "id": "b5f8def644379b9f",
   "outputs": [
    {
     "data": {
      "text/plain": [
       "tensor([[[1., 1., 1., 1.],\n",
       "         [1., 1., 1., 1.],\n",
       "         [1., 1., 1., 1.]],\n",
       "\n",
       "        [[1., 1., 1., 1.],\n",
       "         [1., 1., 1., 1.],\n",
       "         [1., 1., 1., 1.]]])"
      ]
     },
     "execution_count": 20,
     "metadata": {},
     "output_type": "execute_result"
    }
   ],
   "execution_count": 20
  },
  {
   "metadata": {
    "ExecuteTime": {
     "end_time": "2024-12-16T00:07:20.978660Z",
     "start_time": "2024-12-16T00:07:20.967369Z"
    }
   },
   "cell_type": "code",
   "source": "torch.randn(3, 4)",
   "id": "36ff8b333722c8c4",
   "outputs": [
    {
     "data": {
      "text/plain": [
       "tensor([[-0.0433,  0.6757,  0.2722,  1.0198],\n",
       "        [-0.0827, -0.3377, -0.7859, -0.3738],\n",
       "        [ 1.2793, -0.5049,  1.2477,  0.2523]])"
      ]
     },
     "execution_count": 21,
     "metadata": {},
     "output_type": "execute_result"
    }
   ],
   "execution_count": 21
  },
  {
   "metadata": {
    "ExecuteTime": {
     "end_time": "2024-12-16T00:08:32.878630Z",
     "start_time": "2024-12-16T00:08:32.872345Z"
    }
   },
   "cell_type": "code",
   "source": "torch.tensor([[2, 1, 4, 3], [1, 2, 3, 4], [4, 3, 2, 1]])",
   "id": "2384669b837db8a7",
   "outputs": [
    {
     "data": {
      "text/plain": [
       "tensor([[2, 1, 4, 3],\n",
       "        [1, 2, 3, 4],\n",
       "        [4, 3, 2, 1]])"
      ]
     },
     "execution_count": 22,
     "metadata": {},
     "output_type": "execute_result"
    }
   ],
   "execution_count": 22
  },
  {
   "metadata": {
    "ExecuteTime": {
     "end_time": "2024-12-16T00:10:33.805640Z",
     "start_time": "2024-12-16T00:10:33.799495Z"
    }
   },
   "cell_type": "code",
   "source": "print(x[:-1])",
   "id": "9b45104fca3ef508",
   "outputs": [
    {
     "name": "stdout",
     "output_type": "stream",
     "text": [
      "tensor([[0., 1.],\n",
      "        [2., 3.],\n",
      "        [4., 5.],\n",
      "        [6., 7.],\n",
      "        [8., 9.]])\n"
     ]
    }
   ],
   "execution_count": 24
  },
  {
   "metadata": {
    "ExecuteTime": {
     "end_time": "2024-12-16T00:11:19.816127Z",
     "start_time": "2024-12-16T00:11:19.812297Z"
    }
   },
   "cell_type": "code",
   "source": "x[-1] = torch.tensor([40, 50])",
   "id": "fcd42bf7f12f60e2",
   "outputs": [],
   "execution_count": 26
  },
  {
   "metadata": {
    "ExecuteTime": {
     "end_time": "2024-12-16T00:11:25.360374Z",
     "start_time": "2024-12-16T00:11:25.356481Z"
    }
   },
   "cell_type": "code",
   "source": "print(x)",
   "id": "db5de0c8606beee1",
   "outputs": [
    {
     "name": "stdout",
     "output_type": "stream",
     "text": [
      "tensor([[ 0.,  1.],\n",
      "        [ 2.,  3.],\n",
      "        [ 4.,  5.],\n",
      "        [ 6.,  7.],\n",
      "        [ 8.,  9.],\n",
      "        [40., 50.]])\n"
     ]
    }
   ],
   "execution_count": 27
  },
  {
   "metadata": {
    "ExecuteTime": {
     "end_time": "2024-12-16T00:13:16.262583Z",
     "start_time": "2024-12-16T00:13:16.257738Z"
    }
   },
   "cell_type": "code",
   "source": "x[:2, :] = torch.tensor(43)",
   "id": "e30b1e83b8009ee6",
   "outputs": [],
   "execution_count": 28
  },
  {
   "metadata": {
    "ExecuteTime": {
     "end_time": "2024-12-16T00:13:23.002580Z",
     "start_time": "2024-12-16T00:13:22.996868Z"
    }
   },
   "cell_type": "code",
   "source": "print(x)",
   "id": "f649668559256cfb",
   "outputs": [
    {
     "name": "stdout",
     "output_type": "stream",
     "text": [
      "tensor([[43., 43.],\n",
      "        [43., 43.],\n",
      "        [ 4.,  5.],\n",
      "        [ 6.,  7.],\n",
      "        [ 8.,  9.],\n",
      "        [40., 50.]])\n"
     ]
    }
   ],
   "execution_count": 29
  },
  {
   "metadata": {
    "ExecuteTime": {
     "end_time": "2024-12-16T00:16:03.604918Z",
     "start_time": "2024-12-16T00:16:03.593384Z"
    }
   },
   "cell_type": "code",
   "source": [
    "x = torch.tensor([1.0, 2, 4, 8])\n",
    "y = torch.tensor([2, 2, 2, 2])\n",
    "print(x + y, x - y, x * y, x / y, x**y)"
   ],
   "id": "6c8e7be4c9715c30",
   "outputs": [
    {
     "name": "stdout",
     "output_type": "stream",
     "text": [
      "tensor([ 3.,  4.,  6., 10.]) tensor([-1.,  0.,  2.,  6.]) tensor([ 2.,  4.,  8., 16.]) tensor([0.5000, 1.0000, 2.0000, 4.0000]) tensor([ 1.,  4., 16., 64.])\n"
     ]
    }
   ],
   "execution_count": 30
  },
  {
   "metadata": {
    "ExecuteTime": {
     "end_time": "2024-12-16T00:19:19.626938Z",
     "start_time": "2024-12-16T00:19:19.618044Z"
    }
   },
   "cell_type": "code",
   "source": [
    "x = torch.arange(12, dtype=torch.float32).reshape((3, 4))\n",
    "y = torch.tensor([[2.0, 1, 4, 3], [1, 2, 3, 4], [4, 3, 2, 1]])\n",
    "print(torch.cat((x, y), dim = 0))\n",
    "print(torch.cat((x, y), dim = 1))"
   ],
   "id": "98e45522dba11977",
   "outputs": [
    {
     "name": "stdout",
     "output_type": "stream",
     "text": [
      "tensor([[ 0.,  1.,  2.,  3.],\n",
      "        [ 4.,  5.,  6.,  7.],\n",
      "        [ 8.,  9., 10., 11.],\n",
      "        [ 2.,  1.,  4.,  3.],\n",
      "        [ 1.,  2.,  3.,  4.],\n",
      "        [ 4.,  3.,  2.,  1.]])\n",
      "tensor([[ 0.,  1.,  2.,  3.,  2.,  1.,  4.,  3.],\n",
      "        [ 4.,  5.,  6.,  7.,  1.,  2.,  3.,  4.],\n",
      "        [ 8.,  9., 10., 11.,  4.,  3.,  2.,  1.]])\n"
     ]
    }
   ],
   "execution_count": 31
  },
  {
   "metadata": {
    "ExecuteTime": {
     "end_time": "2024-12-16T00:22:16.730474Z",
     "start_time": "2024-12-16T00:22:16.724930Z"
    }
   },
   "cell_type": "code",
   "source": "print(x == y)",
   "id": "f1e5e0649d49cbc5",
   "outputs": [
    {
     "name": "stdout",
     "output_type": "stream",
     "text": [
      "tensor([[False,  True, False,  True],\n",
      "        [False, False, False, False],\n",
      "        [False, False, False, False]])\n"
     ]
    }
   ],
   "execution_count": 32
  },
  {
   "metadata": {
    "ExecuteTime": {
     "end_time": "2024-12-16T00:22:35.660516Z",
     "start_time": "2024-12-16T00:22:35.651286Z"
    }
   },
   "cell_type": "code",
   "source": "print(x.sum())",
   "id": "3a56bd1805d2e135",
   "outputs": [
    {
     "name": "stdout",
     "output_type": "stream",
     "text": [
      "tensor(66.)\n"
     ]
    }
   ],
   "execution_count": 33
  },
  {
   "metadata": {
    "ExecuteTime": {
     "end_time": "2024-12-16T00:25:33.372973Z",
     "start_time": "2024-12-16T00:25:33.367547Z"
    }
   },
   "cell_type": "code",
   "source": [
    "a = torch.arange(3).reshape((3, 1))\n",
    "b = torch.arange(2).reshape((1, 2))\n",
    "print(a)\n",
    "print(b)"
   ],
   "id": "e9c5bfe4f4e2cbe9",
   "outputs": [
    {
     "name": "stdout",
     "output_type": "stream",
     "text": [
      "tensor([[0],\n",
      "        [1],\n",
      "        [2]])\n",
      "tensor([[0, 1]])\n"
     ]
    }
   ],
   "execution_count": 35
  },
  {
   "metadata": {
    "ExecuteTime": {
     "end_time": "2024-12-16T00:25:52.860269Z",
     "start_time": "2024-12-16T00:25:52.853538Z"
    }
   },
   "cell_type": "code",
   "source": "print(a + b)",
   "id": "3b2532fa81626a97",
   "outputs": [
    {
     "name": "stdout",
     "output_type": "stream",
     "text": [
      "tensor([[0, 1],\n",
      "        [1, 2],\n",
      "        [2, 3]])\n"
     ]
    }
   ],
   "execution_count": 36
  },
  {
   "metadata": {
    "ExecuteTime": {
     "end_time": "2024-12-16T00:28:29.063029Z",
     "start_time": "2024-12-16T00:28:29.058115Z"
    }
   },
   "cell_type": "code",
   "source": [
    "# Update in new memory\n",
    "print(id(y))\n",
    "y = y + x\n",
    "print(id(y))"
   ],
   "id": "c0fc5eb61f3853a6",
   "outputs": [
    {
     "name": "stdout",
     "output_type": "stream",
     "text": [
      "2258731769024\n",
      "2258731776144\n"
     ]
    }
   ],
   "execution_count": 37
  },
  {
   "metadata": {
    "ExecuteTime": {
     "end_time": "2024-12-16T00:30:27.802889Z",
     "start_time": "2024-12-16T00:30:27.792556Z"
    }
   },
   "cell_type": "code",
   "source": [
    "# update in place\n",
    "z = torch.zeros_like(y)\n",
    "print('id(z):', id(z))\n",
    "z[:] = x + y\n",
    "print('id(z):', id(z))"
   ],
   "id": "856dea5e7df7be61",
   "outputs": [
    {
     "name": "stdout",
     "output_type": "stream",
     "text": [
      "id(z): 2258731772864\n",
      "id(z): 2258731772864\n"
     ]
    }
   ],
   "execution_count": 38
  },
  {
   "metadata": {
    "ExecuteTime": {
     "end_time": "2024-12-16T00:33:18.316405Z",
     "start_time": "2024-12-16T00:33:18.310049Z"
    }
   },
   "cell_type": "code",
   "source": [
    "a = z.numpy()\n",
    "b = torch.from_numpy(a)\n",
    "print(type(a), type(b))"
   ],
   "id": "b951c10aa419c0a6",
   "outputs": [
    {
     "name": "stdout",
     "output_type": "stream",
     "text": [
      "<class 'numpy.ndarray'> <class 'torch.Tensor'>\n"
     ]
    }
   ],
   "execution_count": 39
  },
  {
   "metadata": {
    "ExecuteTime": {
     "end_time": "2024-12-16T00:33:41.058750Z",
     "start_time": "2024-12-16T00:33:41.051021Z"
    }
   },
   "cell_type": "code",
   "source": [
    "a = torch.tensor([3.5])\n",
    "print(a.item())"
   ],
   "id": "6b343e037bfbe7ad",
   "outputs": [
    {
     "name": "stdout",
     "output_type": "stream",
     "text": [
      "3.5\n"
     ]
    }
   ],
   "execution_count": 40
  },
  {
   "metadata": {
    "ExecuteTime": {
     "end_time": "2024-12-16T00:34:50.133617Z",
     "start_time": "2024-12-16T00:34:50.129110Z"
    }
   },
   "cell_type": "code",
   "source": "print(b > x)",
   "id": "c5b53aef614d7bd5",
   "outputs": [
    {
     "name": "stdout",
     "output_type": "stream",
     "text": [
      "tensor([[True, True, True, True],\n",
      "        [True, True, True, True],\n",
      "        [True, True, True, True]])\n"
     ]
    }
   ],
   "execution_count": 43
  },
  {
   "metadata": {
    "ExecuteTime": {
     "end_time": "2024-12-16T00:36:47.943337Z",
     "start_time": "2024-12-16T00:36:47.936370Z"
    }
   },
   "cell_type": "code",
   "source": [
    "z = z.reshape((2, 3, 2))\n",
    "print(z)"
   ],
   "id": "737230d941c58ff3",
   "outputs": [
    {
     "name": "stdout",
     "output_type": "stream",
     "text": [
      "tensor([[[ 2.,  3.],\n",
      "         [ 8.,  9.],\n",
      "         [ 9., 12.]],\n",
      "\n",
      "        [[15., 18.],\n",
      "         [20., 21.],\n",
      "         [22., 23.]]])\n"
     ]
    }
   ],
   "execution_count": 45
  },
  {
   "metadata": {},
   "cell_type": "markdown",
   "source": "# Pandas",
   "id": "c6879f29cb7ce375"
  },
  {
   "metadata": {
    "ExecuteTime": {
     "end_time": "2024-12-16T01:10:24.944183Z",
     "start_time": "2024-12-16T01:10:24.934197Z"
    }
   },
   "cell_type": "code",
   "source": [
    "os.makedirs(os.path.join('..', 'data'), exist_ok=True)\n",
    "data_file = os.path.join('..', 'data', 'house_tiny.csv')\n",
    "with open(data_file, 'w') as f:\n",
    "    f.write('''NumRooms,RoofType,Price\n",
    "NA,NA,127500\n",
    "2,NA,106000\n",
    "4,Tile,178100\n",
    "3,NA,140000''')"
   ],
   "id": "22081db337af70c7",
   "outputs": [],
   "execution_count": 59
  },
  {
   "metadata": {
    "ExecuteTime": {
     "end_time": "2024-12-16T01:10:26.022065Z",
     "start_time": "2024-12-16T01:10:26.012021Z"
    }
   },
   "cell_type": "code",
   "source": [
    "data = pd.read_csv(data_file)\n",
    "print(data)"
   ],
   "id": "d066bfd3d6026ac7",
   "outputs": [
    {
     "name": "stdout",
     "output_type": "stream",
     "text": [
      "   NumRooms RoofType   Price\n",
      "0       NaN      NaN  127500\n",
      "1       2.0      NaN  106000\n",
      "2       4.0     Tile  178100\n",
      "3       3.0      NaN  140000\n"
     ]
    }
   ],
   "execution_count": 60
  },
  {
   "metadata": {
    "ExecuteTime": {
     "end_time": "2024-12-16T01:10:31.292640Z",
     "start_time": "2024-12-16T01:10:31.282247Z"
    }
   },
   "cell_type": "code",
   "source": [
    "inputs, targets = data.iloc[:, 0:2], data.iloc[:, 2]\n",
    "inputs = pd.get_dummies(inputs, dummy_na=True)\n",
    "print(inputs)"
   ],
   "id": "8c3734d538f1c815",
   "outputs": [
    {
     "name": "stdout",
     "output_type": "stream",
     "text": [
      "   NumRooms  RoofType_Tile  RoofType_nan\n",
      "0       NaN          False          True\n",
      "1       2.0          False          True\n",
      "2       4.0           True         False\n",
      "3       3.0          False          True\n"
     ]
    }
   ],
   "execution_count": 61
  },
  {
   "metadata": {
    "ExecuteTime": {
     "end_time": "2024-12-16T01:17:11.030231Z",
     "start_time": "2024-12-16T01:17:11.022310Z"
    }
   },
   "cell_type": "code",
   "source": [
    "inputs = inputs.fillna(inputs.mean())\n",
    "print(inputs)"
   ],
   "id": "845c03f71b32f922",
   "outputs": [
    {
     "name": "stdout",
     "output_type": "stream",
     "text": [
      "   NumRooms  RoofType_Tile  RoofType_nan\n",
      "0       3.0          False          True\n",
      "1       2.0          False          True\n",
      "2       4.0           True         False\n",
      "3       3.0          False          True\n"
     ]
    }
   ],
   "execution_count": 62
  },
  {
   "metadata": {
    "ExecuteTime": {
     "end_time": "2024-12-16T01:19:52.815835Z",
     "start_time": "2024-12-16T01:19:52.806332Z"
    }
   },
   "cell_type": "code",
   "source": [
    "x = torch.tensor(inputs.to_numpy(dtype=float))\n",
    "y = torch.tensor(targets.to_numpy(dtype=float))\n",
    "print(x)\n",
    "print(y)"
   ],
   "id": "4a621d5bd6ca9e3c",
   "outputs": [
    {
     "name": "stdout",
     "output_type": "stream",
     "text": [
      "tensor([[3., 0., 1.],\n",
      "        [2., 0., 1.],\n",
      "        [4., 1., 0.],\n",
      "        [3., 0., 1.]], dtype=torch.float64)\n",
      "tensor([127500., 106000., 178100., 140000.], dtype=torch.float64)\n"
     ]
    }
   ],
   "execution_count": 63
  },
  {
   "metadata": {},
   "cell_type": "code",
   "outputs": [],
   "execution_count": null,
   "source": "",
   "id": "ad5f3bfe23242462"
  }
 ],
 "metadata": {
  "kernelspec": {
   "display_name": "Python 3",
   "language": "python",
   "name": "python3"
  },
  "language_info": {
   "codemirror_mode": {
    "name": "ipython",
    "version": 2
   },
   "file_extension": ".py",
   "mimetype": "text/x-python",
   "name": "python",
   "nbconvert_exporter": "python",
   "pygments_lexer": "ipython2",
   "version": "2.7.6"
  }
 },
 "nbformat": 4,
 "nbformat_minor": 5
}
