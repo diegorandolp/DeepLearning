{
 "cells": [
  {
   "metadata": {},
   "cell_type": "markdown",
   "source": "# Intro to Pytorch",
   "id": "e29a62248d170933"
  },
  {
   "metadata": {
    "ExecuteTime": {
     "end_time": "2024-12-14T06:55:20.463089Z",
     "start_time": "2024-12-14T06:55:20.451269Z"
    }
   },
   "cell_type": "code",
   "source": [
    "import torch \n",
    "import torch.nn as nn\n",
    "import torch.nn.functional as F"
   ],
   "id": "6c6b7d4f7c988c9f",
   "outputs": [],
   "execution_count": 20
  },
  {
   "metadata": {
    "ExecuteTime": {
     "end_time": "2024-12-14T05:55:43.073198Z",
     "start_time": "2024-12-14T05:55:43.069664Z"
    }
   },
   "cell_type": "code",
   "source": [
    "# 0-d Tensor\n",
    "number = torch.tensor(1.4243, dtype=torch.float64)\n",
    "\n",
    "print(f'number is a {number.dim()} dim Tensor')"
   ],
   "id": "303b167d5f508ad1",
   "outputs": [
    {
     "name": "stdout",
     "output_type": "stream",
     "text": [
      "number is a 0 dim Tensor\n"
     ]
    }
   ],
   "execution_count": 10
  },
  {
   "metadata": {
    "ExecuteTime": {
     "end_time": "2024-12-14T05:55:43.715013Z",
     "start_time": "2024-12-14T05:55:43.709458Z"
    }
   },
   "cell_type": "code",
   "source": [
    "# 1-d Tensor\n",
    "numbers = torch.tensor([3.141592, 1.414213, 2.71821], dtype=torch.float64)\n",
    "\n",
    "print(f'numbers is a {numbers.dim()} dim Tensor')"
   ],
   "id": "60e9e169e74e860b",
   "outputs": [
    {
     "name": "stdout",
     "output_type": "stream",
     "text": [
      "numbers is a 1 dim Tensor\n"
     ]
    }
   ],
   "execution_count": 11
  },
  {
   "metadata": {
    "ExecuteTime": {
     "end_time": "2024-12-14T06:22:49.943366Z",
     "start_time": "2024-12-14T06:22:49.939332Z"
    }
   },
   "cell_type": "code",
   "source": [
    "# 2-d Tensor\n",
    "matrix = torch.tensor([[1, 2, 3], [4, 5, 6], [7, 8, 9]], dtype=torch.float64)\n",
    "\n",
    "print(f'matrix is a {matrix.dim()} dim Tensor')\n"
   ],
   "id": "11cf114c5f939639",
   "outputs": [
    {
     "name": "stdout",
     "output_type": "stream",
     "text": [
      "matrix is a 2 dim Tensor\n"
     ]
    }
   ],
   "execution_count": 14
  },
  {
   "metadata": {
    "ExecuteTime": {
     "end_time": "2024-12-14T06:26:54.175868Z",
     "start_time": "2024-12-14T06:26:54.171718Z"
    }
   },
   "cell_type": "code",
   "source": [
    "# 4-d Tensor, 10 images RGB 28x28\n",
    "images = torch.zeros([10, 3, 28, 28], dtype=torch.float64)\n",
    "\n",
    "print(f'images is a {images.dim()} dim Tensor')\n",
    "print(f'images shape is {images.shape}')"
   ],
   "id": "cf9b7ff7cc8ee102",
   "outputs": [
    {
     "name": "stdout",
     "output_type": "stream",
     "text": [
      "images is a 4 dim Tensor\n",
      "images shape is torch.Size([10, 3, 28, 28])\n"
     ]
    }
   ],
   "execution_count": 16
  },
  {
   "metadata": {
    "ExecuteTime": {
     "end_time": "2024-12-14T06:29:55.784499Z",
     "start_time": "2024-12-14T06:29:55.776413Z"
    }
   },
   "cell_type": "code",
   "source": [
    "# Add two tensors of 0-d\n",
    "a = torch.tensor(1.0)\n",
    "b = torch.tensor(2.0)\n",
    "\n",
    "c = a + b\n",
    "print(\"Value:\", c, \"Type:\", c.dtype)"
   ],
   "id": "f28f1a5dfe3ea0a9",
   "outputs": [
    {
     "name": "stdout",
     "output_type": "stream",
     "text": [
      "Value: tensor(3.) Type: torch.float32\n"
     ]
    }
   ],
   "execution_count": 17
  },
  {
   "metadata": {},
   "cell_type": "markdown",
   "source": "# Neural Networks in Pytorch",
   "id": "12061bb12f79638e"
  },
  {
   "metadata": {
    "ExecuteTime": {
     "end_time": "2024-12-14T07:31:46.917568Z",
     "start_time": "2024-12-14T07:31:46.900496Z"
    }
   },
   "cell_type": "code",
   "source": [
    "class OurDenseLayer(nn.Module):\n",
    "    def __init__(self, n_output_nodes):\n",
    "        super(OurDenseLayer, self).__init__()\n",
    "        self.n_output_nodes = n_output_nodes\n",
    "        self.W = None  # Será inicializado en `forward`\n",
    "        self.b = None  # Será inicializado en `forward`\n",
    "\n",
    "    def forward(self, x):\n",
    "        # Inicializar los parámetros la primera vez que se llame al `forward`\n",
    "        if self.W is None or self.b is None:\n",
    "            d = x.shape[-1]\n",
    "            # Inicializar pesos y bias con valores aleatorios\n",
    "            self.W = nn.Parameter(torch.randn(d, self.n_output_nodes))\n",
    "            self.b = nn.Parameter(torch.randn(1, self.n_output_nodes))\n",
    "\n",
    "        # Operación z = xW + b\n",
    "        z = torch.matmul(x, self.W) + self.b\n",
    "        # Aplicar activación sigmoide\n",
    "        y = torch.sigmoid(z)\n",
    "        return y\n",
    "\n",
    "# Fijar una semilla aleatoria para reproducibilidad\n",
    "torch.manual_seed(1)\n",
    "\n",
    "# Crear una instancia de la capa\n",
    "# It is like using 3 neurons in the layer without an output layer, it means, just applying 3 linear transformations and 3 sigmoids to the input\n",
    "layer = OurDenseLayer(3)\n",
    "\n",
    "# Definir una entrada\n",
    "x_input = torch.tensor([[1., 2.]], dtype=torch.float32)\n",
    "\n",
    "# Pasar la entrada por la capa\n",
    "y = layer(x_input)\n",
    "\n",
    "# Verificar la salida\n",
    "print(y.detach().numpy())"
   ],
   "id": "fd2cdc29422c153c",
   "outputs": [
    {
     "name": "stdout",
     "output_type": "stream",
     "text": [
      "[[0.59416693 0.43654308 0.21446949]]\n"
     ]
    }
   ],
   "execution_count": 25
  },
  {
   "metadata": {
    "ExecuteTime": {
     "end_time": "2024-12-14T07:31:51.762679Z",
     "start_time": "2024-12-14T07:31:51.754469Z"
    }
   },
   "cell_type": "code",
   "source": [
    "\n",
    "# Define el número de salidas\n",
    "n_output_nodes = 3\n",
    "\n",
    "# Primero define el modelo\n",
    "model = nn.Sequential()\n",
    "\n",
    "'''TODO: Define una capa densa (completamente conectada) para calcular z'''\n",
    "# Recuerda: las capas densas están definidas por los parámetros W y b.\n",
    "# Puedes consultar más sobre la inicialización de W y b en la documentación de PyTorch:\n",
    "# https://pytorch.org/docs/stable/nn.html#torch.nn.Linear\n",
    "dense_layer = nn.Linear(2, n_output_nodes)\n",
    "\n",
    "# Agrega la capa densa al modelo\n",
    "model.add_module(\"dense_layer\", dense_layer)\n",
    "model.add_module(\"sigmoid\", nn.Sigmoid())\n",
    "\n",
    "y = model(x_input)\n",
    "print(y.detach().numpy())\n"
   ],
   "id": "509c51e39b0c4636",
   "outputs": [
    {
     "name": "stdout",
     "output_type": "stream",
     "text": [
      "[[0.62066454 0.9024822  0.10844735]]\n"
     ]
    }
   ],
   "execution_count": 27
  },
  {
   "metadata": {},
   "cell_type": "code",
   "outputs": [],
   "execution_count": null,
   "source": "",
   "id": "5a537987b11174f1"
  }
 ],
 "metadata": {
  "kernelspec": {
   "display_name": "Python 3",
   "language": "python",
   "name": "python3"
  },
  "language_info": {
   "codemirror_mode": {
    "name": "ipython",
    "version": 2
   },
   "file_extension": ".py",
   "mimetype": "text/x-python",
   "name": "python",
   "nbconvert_exporter": "python",
   "pygments_lexer": "ipython2",
   "version": "2.7.6"
  }
 },
 "nbformat": 4,
 "nbformat_minor": 5
}
